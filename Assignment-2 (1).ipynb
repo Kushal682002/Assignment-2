{
 "cells": [
  {
   "cell_type": "markdown",
   "id": "bb14168a",
   "metadata": {},
   "source": [
    "# Ans 1"
   ]
  },
  {
   "cell_type": "markdown",
   "id": "37fe1b2a",
   "metadata": {},
   "source": [
    "'#' is used to comment code in python.\n",
    "There are two types of comments in python\n",
    "1. Single Line Comments --> Used to comment a single line using '#'\n",
    "2. Multiple Line Comments --> Used to comment a multiple lines using '''This is a multiple line comment'''\n"
   ]
  },
  {
   "cell_type": "markdown",
   "id": "08519fc1",
   "metadata": {},
   "source": [
    "# Ans 2"
   ]
  },
  {
   "cell_type": "markdown",
   "id": "25613699",
   "metadata": {},
   "source": [
    "In python , a variable is a named location in memory that is used to store data. It allows you to refer to that data by using the variable name instead of the actual value. Variables can hold various types of data , such as numbers , string ,lists or even more complex objects like functions or classes.\n",
    "\n",
    "To Declare a variable in python \n",
    "variable_name = value"
   ]
  },
  {
   "cell_type": "code",
   "execution_count": 2,
   "id": "e42e425b",
   "metadata": {},
   "outputs": [],
   "source": [
    "age = 34\n",
    "name = \"Kushal Agrawal\"\n",
    "height = 5.9\n",
    "legs = 1 + 1\n"
   ]
  },
  {
   "cell_type": "markdown",
   "id": "36d6e57b",
   "metadata": {},
   "source": [
    "# Ans 3"
   ]
  },
  {
   "cell_type": "markdown",
   "id": "8ea9ebe3",
   "metadata": {},
   "source": [
    "In python you can convert one data type to another using type conversion functions or constructors"
   ]
  },
  {
   "cell_type": "code",
   "execution_count": 4,
   "id": "ce638648",
   "metadata": {},
   "outputs": [],
   "source": [
    "x = int(34.56);\n",
    "y = int(\"239\");"
   ]
  },
  {
   "cell_type": "code",
   "execution_count": 5,
   "id": "46b4e505",
   "metadata": {},
   "outputs": [
    {
     "data": {
      "text/plain": [
       "34"
      ]
     },
     "execution_count": 5,
     "metadata": {},
     "output_type": "execute_result"
    }
   ],
   "source": [
    "x"
   ]
  },
  {
   "cell_type": "code",
   "execution_count": 6,
   "id": "e5625f19",
   "metadata": {},
   "outputs": [
    {
     "data": {
      "text/plain": [
       "int"
      ]
     },
     "execution_count": 6,
     "metadata": {},
     "output_type": "execute_result"
    }
   ],
   "source": [
    "type(x)"
   ]
  },
  {
   "cell_type": "code",
   "execution_count": 9,
   "id": "a99f7750",
   "metadata": {},
   "outputs": [
    {
     "name": "stdout",
     "output_type": "stream",
     "text": [
      "239\n"
     ]
    },
    {
     "data": {
      "text/plain": [
       "int"
      ]
     },
     "execution_count": 9,
     "metadata": {},
     "output_type": "execute_result"
    }
   ],
   "source": [
    "print(y)\n",
    "type(y)"
   ]
  },
  {
   "cell_type": "code",
   "execution_count": 10,
   "id": "8a8867e6",
   "metadata": {},
   "outputs": [],
   "source": [
    "x = float(5)\n",
    "y = float(\".534\")"
   ]
  },
  {
   "cell_type": "code",
   "execution_count": 11,
   "id": "0510203a",
   "metadata": {},
   "outputs": [
    {
     "name": "stdout",
     "output_type": "stream",
     "text": [
      "5.0\n",
      "<class 'float'>\n",
      "0.534\n",
      "<class 'float'>\n"
     ]
    }
   ],
   "source": [
    "print(x)\n",
    "print(type(x))\n",
    "print(y)\n",
    "print(type(y))"
   ]
  },
  {
   "cell_type": "code",
   "execution_count": 12,
   "id": "ba97dfad",
   "metadata": {},
   "outputs": [],
   "source": [
    "x = list(\"Hello\")\n",
    "y = tuple([1,2,3])\n",
    "z = set((1,2,3))"
   ]
  },
  {
   "cell_type": "code",
   "execution_count": 13,
   "id": "cc80b2db",
   "metadata": {},
   "outputs": [
    {
     "name": "stdout",
     "output_type": "stream",
     "text": [
      "['H', 'e', 'l', 'l', 'o']\n",
      "<class 'list'>\n",
      "(1, 2, 3)\n",
      "<class 'tuple'>\n",
      "{1, 2, 3}\n",
      "<class 'set'>\n"
     ]
    }
   ],
   "source": [
    "print(x)\n",
    "print(type(x))\n",
    "print(y)\n",
    "print(type(y))\n",
    "print(z)\n",
    "print(type(z))"
   ]
  },
  {
   "cell_type": "markdown",
   "id": "6b2963d4",
   "metadata": {},
   "source": [
    "# Ans 4"
   ]
  },
  {
   "cell_type": "markdown",
   "id": "59623f40",
   "metadata": {},
   "source": [
    "Firstly open command line and type the word python followed by the path to your script file like this : python first_script.py Hello World! Then just hit enter button\n",
    "    "
   ]
  },
  {
   "cell_type": "markdown",
   "id": "70be94c5",
   "metadata": {},
   "source": [
    "# Ans 5"
   ]
  },
  {
   "cell_type": "code",
   "execution_count": 14,
   "id": "b5eeaec5",
   "metadata": {},
   "outputs": [],
   "source": [
    "my_list = [1,2,3,4,5];"
   ]
  },
  {
   "cell_type": "code",
   "execution_count": 15,
   "id": "7abdd521",
   "metadata": {},
   "outputs": [
    {
     "name": "stdout",
     "output_type": "stream",
     "text": [
      "[2, 3]\n"
     ]
    }
   ],
   "source": [
    "print(my_list[1:3])"
   ]
  },
  {
   "cell_type": "markdown",
   "id": "987acf8b",
   "metadata": {},
   "source": [
    "# Ans 6"
   ]
  },
  {
   "cell_type": "markdown",
   "id": "c6f2eda0",
   "metadata": {},
   "source": [
    "In mathematics ,a complex number is a number that comprises both a real part and an imaginary part. It is represented in the form of 'a+bi' where 'a' is real part and 'b' is imaginary part and 'i' is the imaginary unit defined as the square root of -1.\n"
   ]
  },
  {
   "cell_type": "code",
   "execution_count": 16,
   "id": "a9e1fb46",
   "metadata": {},
   "outputs": [
    {
     "name": "stdout",
     "output_type": "stream",
     "text": [
      "<class 'complex'>\n"
     ]
    }
   ],
   "source": [
    "#Using j or J suffix\n",
    "x = 1+2j\n",
    "print(type(x))"
   ]
  },
  {
   "cell_type": "code",
   "execution_count": 18,
   "id": "fb1fbdad",
   "metadata": {},
   "outputs": [
    {
     "name": "stdout",
     "output_type": "stream",
     "text": [
      "(3+54j)\n",
      "<class 'complex'>\n"
     ]
    }
   ],
   "source": [
    "#using complex() function\n",
    "y = complex(3,54)\n",
    "print(y)\n",
    "print(type(y))"
   ]
  },
  {
   "cell_type": "markdown",
   "id": "c2366d05",
   "metadata": {},
   "source": [
    "# Ans 7"
   ]
  },
  {
   "cell_type": "code",
   "execution_count": 20,
   "id": "d3201f84",
   "metadata": {},
   "outputs": [
    {
     "name": "stdout",
     "output_type": "stream",
     "text": [
      "25\n",
      "<class 'int'>\n"
     ]
    }
   ],
   "source": [
    "age = 25\n",
    "print(age);\n",
    "print(type(age));"
   ]
  },
  {
   "cell_type": "markdown",
   "id": "3c0ad73e",
   "metadata": {},
   "source": [
    "# Ans 8"
   ]
  },
  {
   "cell_type": "code",
   "execution_count": 21,
   "id": "629c3bea",
   "metadata": {},
   "outputs": [],
   "source": [
    "price = 9.99"
   ]
  },
  {
   "cell_type": "code",
   "execution_count": 22,
   "id": "7e41a74a",
   "metadata": {},
   "outputs": [
    {
     "name": "stdout",
     "output_type": "stream",
     "text": [
      "9.99\n",
      "<class 'float'>\n"
     ]
    }
   ],
   "source": [
    "print(price);\n",
    "print(type(price));"
   ]
  },
  {
   "cell_type": "markdown",
   "id": "87acfd55",
   "metadata": {},
   "source": [
    "# Ans 9"
   ]
  },
  {
   "cell_type": "code",
   "execution_count": 23,
   "id": "66ff2320",
   "metadata": {},
   "outputs": [
    {
     "name": "stdout",
     "output_type": "stream",
     "text": [
      "Kushal Agrawal\n",
      "<class 'str'>\n"
     ]
    }
   ],
   "source": [
    "Name = \"Kushal Agrawal\";\n",
    "print(Name);\n",
    "print(type(Name));"
   ]
  },
  {
   "cell_type": "markdown",
   "id": "742c84ed",
   "metadata": {},
   "source": [
    "# Ans 10"
   ]
  },
  {
   "cell_type": "code",
   "execution_count": 24,
   "id": "a1fb40aa",
   "metadata": {},
   "outputs": [],
   "source": [
    "str = \"Hello World!\";"
   ]
  },
  {
   "cell_type": "code",
   "execution_count": 27,
   "id": "9cf8b581",
   "metadata": {},
   "outputs": [
    {
     "data": {
      "text/plain": [
       "'World'"
      ]
     },
     "execution_count": 27,
     "metadata": {},
     "output_type": "execute_result"
    }
   ],
   "source": [
    "str[6:len(str)-1]"
   ]
  },
  {
   "cell_type": "markdown",
   "id": "ff2e2f68",
   "metadata": {},
   "source": [
    "# Ans 11"
   ]
  },
  {
   "cell_type": "code",
   "execution_count": 28,
   "id": "d2af39ee",
   "metadata": {},
   "outputs": [
    {
     "name": "stdout",
     "output_type": "stream",
     "text": [
      "True\n"
     ]
    }
   ],
   "source": [
    "is_student = True;\n",
    "print(is_student)"
   ]
  }
 ],
 "metadata": {
  "kernelspec": {
   "display_name": "Python 3 (ipykernel)",
   "language": "python",
   "name": "python3"
  },
  "language_info": {
   "codemirror_mode": {
    "name": "ipython",
    "version": 3
   },
   "file_extension": ".py",
   "mimetype": "text/x-python",
   "name": "python",
   "nbconvert_exporter": "python",
   "pygments_lexer": "ipython3",
   "version": "3.11.2"
  }
 },
 "nbformat": 4,
 "nbformat_minor": 5
}
